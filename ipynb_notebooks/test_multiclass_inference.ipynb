{
 "cells": [
  {
   "cell_type": "code",
   "execution_count": 1,
   "id": "925fab19",
   "metadata": {},
   "outputs": [
    {
     "name": "stdout",
     "output_type": "stream",
     "text": [
      "xgb.__version__='3.0.1'\n"
     ]
    }
   ],
   "source": [
    "import numpy as np\n",
    "import pandas as pd\n",
    "import pickle\n",
    "\n",
    "import xgboost as xgb\n",
    "print(f\"{xgb.__version__=}\")\n",
    "\n",
    "import sys\n",
    "import os\n",
    "sys.path.append(os.path.abspath(os.path.join(os.getcwd(), '..')))\n",
    "\n",
    "from src.variables import wc_training_vars\n"
   ]
  },
  {
   "cell_type": "code",
   "execution_count": 2,
   "id": "adba92fe",
   "metadata": {},
   "outputs": [
    {
     "name": "stdout",
     "output_type": "stream",
     "text": [
      "(178827, 435)\n"
     ]
    }
   ],
   "source": [
    "with open(f\"../intermediate_files/all_df.pkl\", \"rb\") as f:\n",
    "    all_df = pickle.load(f)\n",
    "print(all_df.shape)"
   ]
  },
  {
   "cell_type": "code",
   "execution_count": 3,
   "id": "f11b844a",
   "metadata": {},
   "outputs": [
    {
     "name": "stdout",
     "output_type": "stream",
     "text": [
      "(43399, 16)\n",
      "(178827, 447)\n",
      "(43399, 447)\n"
     ]
    }
   ],
   "source": [
    "with open(f\"../training_outputs/first_multiclass_training/predictions.pkl\", \"rb\") as f:\n",
    "    pred_df = pickle.load(f)\n",
    "print(pred_df.shape)\n",
    "merged_df = pd.merge(all_df, pred_df, on=[\"filetype\", \"run\", \"subrun\", \"event\"], how=\"left\")\n",
    "print(merged_df.shape)\n",
    "preselected_merged_df = merged_df.query(\"wc_kine_reco_Enu > 0 and wc_shw_sp_n_20mev_showers > 0\")\n",
    "print(preselected_merged_df.shape)"
   ]
  },
  {
   "cell_type": "code",
   "execution_count": 4,
   "id": "67c3e5d7",
   "metadata": {},
   "outputs": [
    {
     "data": {
      "text/plain": [
       "array([[5.56047773e-03, 1.15287339e-03, 6.13883140e-06, ...,\n",
       "        1.56066617e-05, 6.62781667e-06, 1.28455600e-02],\n",
       "       [2.26524798e-03, 1.80735860e-05, 1.37177540e-05, ...,\n",
       "        5.73542911e-06, 1.21377176e-04, 1.28351320e-02],\n",
       "       [3.86017673e-02, 1.57335610e-03, 4.77125868e-05, ...,\n",
       "        3.17941085e-05, 1.55255639e-05, 7.20495760e-01],\n",
       "       ...,\n",
       "       [3.96875665e-03, 2.85274675e-03, 4.39947553e-06, ...,\n",
       "        1.52794546e-05, 3.59801314e-04, 9.54899609e-01],\n",
       "       [1.43061143e-05, 2.29366433e-05, 4.63590623e-05, ...,\n",
       "        5.37958986e-04, 1.35147829e-07, 9.97808754e-01],\n",
       "       [6.49400135e-06, 1.04000819e-05, 1.04882702e-07, ...,\n",
       "        1.04474850e-06, 5.72910540e-06, 9.99902606e-01]], dtype=float32)"
      ]
     },
     "execution_count": 4,
     "metadata": {},
     "output_type": "execute_result"
    }
   ],
   "source": [
    "model = xgb.XGBClassifier()\n",
    "model.load_model(f\"../training_outputs/first_multiclass_training/bdt.json\")\n",
    "\n",
    "x = preselected_merged_df[wc_training_vars].to_numpy()\n",
    "\n",
    "y_from_inference = model.predict_proba(x)\n",
    "\n",
    "y_from_inference\n"
   ]
  },
  {
   "cell_type": "code",
   "execution_count": 5,
   "id": "5e109aee",
   "metadata": {},
   "outputs": [
    {
     "data": {
      "text/plain": [
       "array([[5.56047773e-03, 1.15287339e-03, 6.13883140e-06, ...,\n",
       "        1.56066617e-05, 6.62781667e-06, 1.28455600e-02],\n",
       "       [2.26524798e-03, 1.80735860e-05, 1.37177540e-05, ...,\n",
       "        5.73542911e-06, 1.21377176e-04, 1.28351320e-02],\n",
       "       [3.86017673e-02, 1.57335610e-03, 4.77125868e-05, ...,\n",
       "        3.17941085e-05, 1.55255639e-05, 7.20495760e-01],\n",
       "       ...,\n",
       "       [3.96875665e-03, 2.85274675e-03, 4.39947553e-06, ...,\n",
       "        1.52794546e-05, 3.59801314e-04, 9.54899609e-01],\n",
       "       [1.43061143e-05, 2.29366433e-05, 4.63590623e-05, ...,\n",
       "        5.37958986e-04, 1.35147829e-07, 9.97808754e-01],\n",
       "       [6.49400135e-06, 1.04000819e-05, 1.04882702e-07, ...,\n",
       "        1.04474850e-06, 5.72910540e-06, 9.99902606e-01]], dtype=float32)"
      ]
     },
     "execution_count": 5,
     "metadata": {},
     "output_type": "execute_result"
    }
   ],
   "source": [
    "y_from_saved_df = preselected_merged_df[['prob_1gNp',\n",
    "       'prob_1g0p', 'prob_1gNp1mu', 'prob_1g0p1mu', 'prob_1g_outFV',\n",
    "       'prob_2gNp', 'prob_2g0p', 'prob_2gNp1mu', 'prob_2g0p1mu',\n",
    "       'prob_2g_outFV', 'prob_other']].to_numpy()\n",
    "y_from_saved_df"
   ]
  },
  {
   "cell_type": "code",
   "execution_count": 6,
   "id": "e11d6181",
   "metadata": {},
   "outputs": [
    {
     "data": {
      "text/plain": [
       "True"
      ]
     },
     "execution_count": 6,
     "metadata": {},
     "output_type": "execute_result"
    }
   ],
   "source": [
    "flattened_y_from_saved_df = y_from_saved_df.reshape(-1)\n",
    "flattened_y_from_inference = y_from_inference.reshape(-1)\n",
    "\n",
    "np.allclose(flattened_y_from_saved_df, flattened_y_from_inference)"
   ]
  },
  {
   "cell_type": "code",
   "execution_count": null,
   "id": "7c40af40",
   "metadata": {},
   "outputs": [],
   "source": []
  },
  {
   "cell_type": "code",
   "execution_count": null,
   "id": "cb8ad276",
   "metadata": {},
   "outputs": [],
   "source": []
  },
  {
   "cell_type": "code",
   "execution_count": null,
   "id": "6ae8ba20",
   "metadata": {},
   "outputs": [],
   "source": []
  }
 ],
 "metadata": {
  "kernelspec": {
   "display_name": "base_2",
   "language": "python",
   "name": "python3"
  },
  "language_info": {
   "codemirror_mode": {
    "name": "ipython",
    "version": 3
   },
   "file_extension": ".py",
   "mimetype": "text/x-python",
   "name": "python",
   "nbconvert_exporter": "python",
   "pygments_lexer": "ipython3",
   "version": "3.10.10"
  }
 },
 "nbformat": 4,
 "nbformat_minor": 5
}
